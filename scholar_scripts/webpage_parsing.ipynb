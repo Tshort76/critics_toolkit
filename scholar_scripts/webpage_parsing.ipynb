{
 "cells": [
  {
   "cell_type": "markdown",
   "metadata": {},
   "source": [
    "# Setup"
   ]
  },
  {
   "cell_type": "code",
   "execution_count": null,
   "metadata": {},
   "outputs": [],
   "source": [
    "import scholar_scripts.utils as u\n",
    "import scholar_scripts.html_parsing as hp\n",
    "\n",
    "%load_ext autoreload\n",
    "%autoreload 2\n",
    "\n",
    "u.configure_logging()"
   ]
  },
  {
   "cell_type": "markdown",
   "metadata": {},
   "source": [
    "# Lex Fridman Episodes"
   ]
  },
  {
   "cell_type": "markdown",
   "metadata": {},
   "source": [
    "The workflow is:\n",
    "1. Go to Lex's podcast page, https://lexfridman.com/podcast \n",
    "2. Select 'Show All' for episodes\n",
    "3. Download as html\n",
    "4. Parse that file with `html_parsing.parse_lex_episodes_html()`"
   ]
  },
  {
   "cell_type": "markdown",
   "metadata": {},
   "source": [
    "## Parse websites html"
   ]
  },
  {
   "cell_type": "code",
   "execution_count": null,
   "metadata": {},
   "outputs": [],
   "source": [
    "episodes = hp.parse_lex_episodes_html(\"data/Lex_Fridman_Podcast_20240617.html\")\n",
    "episodes[\"rating\"] = \"\"\n",
    "episodes[\"listen date\"] = \"\"\n",
    "episodes.index = [str(i+1).zfill(3) for i in range(len(episodes))]\n",
    "episodes"
   ]
  },
  {
   "cell_type": "code",
   "execution_count": null,
   "metadata": {},
   "outputs": [],
   "source": [
    "episodes_per_page = 50\n",
    "i = 0\n",
    "while i < len(episodes):\n",
    "    range_str = str(i+1).zfill(3) + \" - \" + str(i+episodes_per_page).zfill(3)\n",
    "    with open(f\"data/generated/Lex Fridman ({range_str}).md\", \"w\", encoding=\"utf-8\") as fp:\n",
    "        fp.write(episodes.iloc[i:(i+episodes_per_page-1)].to_markdown())\n",
    "    i += episodes_per_page"
   ]
  },
  {
   "cell_type": "markdown",
   "metadata": {},
   "source": [
    "## Parse Youtube page"
   ]
  },
  {
   "cell_type": "markdown",
   "metadata": {},
   "source": [
    "The workflow is:\n",
    "1. search Youtube for a person or topic of interest\n",
    "2. download the results page as html\n",
    "3. parse with `html_parsing.parse_youtube_video_list()`"
   ]
  },
  {
   "cell_type": "code",
   "execution_count": null,
   "metadata": {},
   "outputs": [],
   "source": [
    "topic = \"kotkin_stephen\"\n",
    "(videos := hp.parse_youtube_video_list(f\"data/{topic}_YouTube.html\"))"
   ]
  },
  {
   "cell_type": "code",
   "execution_count": null,
   "metadata": {},
   "outputs": [],
   "source": [
    "with open(f\"data/generated/{topic}_table.md\", \"w\", encoding=\"utf-8\") as fp:\n",
    "    fp.write(videos.to_markdown())"
   ]
  },
  {
   "cell_type": "code",
   "execution_count": null,
   "metadata": {},
   "outputs": [],
   "source": []
  }
 ],
 "metadata": {
  "kernelspec": {
   "display_name": ".venv",
   "language": "python",
   "name": "python3"
  },
  "language_info": {
   "codemirror_mode": {
    "name": "ipython",
    "version": 3
   },
   "file_extension": ".py",
   "mimetype": "text/x-python",
   "name": "python",
   "nbconvert_exporter": "python",
   "pygments_lexer": "ipython3",
   "version": "3.12.3"
  }
 },
 "nbformat": 4,
 "nbformat_minor": 2
}
