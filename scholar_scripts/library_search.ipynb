{
 "cells": [
  {
   "cell_type": "markdown",
   "metadata": {},
   "source": [
    "# Setup"
   ]
  },
  {
   "cell_type": "code",
   "execution_count": null,
   "metadata": {},
   "outputs": [],
   "source": [
    "import pandas as pd\n",
    "import scholar_scripts.utils as u\n",
    "import scholar_scripts.overdrive as od\n",
    "\n",
    "%load_ext autoreload\n",
    "%autoreload 2\n",
    "\n",
    "u.configure_logging()"
   ]
  },
  {
   "cell_type": "markdown",
   "metadata": {},
   "source": [
    "# Overdrive"
   ]
  },
  {
   "cell_type": "markdown",
   "metadata": {},
   "source": [
    "## Single Item Search"
   ]
  },
  {
   "cell_type": "code",
   "execution_count": null,
   "metadata": {},
   "outputs": [],
   "source": [
    "title=\"upstream\"\n",
    "author=\"mary+oliver\"\n",
    "lib=od.LibraryCode.BOISE\n",
    "od.search_for_media(author, title, lib)"
   ]
  },
  {
   "cell_type": "markdown",
   "metadata": {},
   "source": [
    "## Bulk Search"
   ]
  },
  {
   "cell_type": "markdown",
   "metadata": {},
   "source": [
    "### Build search targets from GoodReads 'to-read' items"
   ]
  },
  {
   "cell_type": "code",
   "execution_count": null,
   "metadata": {},
   "outputs": [],
   "source": [
    "# Go to Good Reads -> My Books -> Import/Export (Under Tools on left ribbon)\n",
    "# Export the library, this will generate a link for your download\n",
    "\n",
    "goodreads_filepath = \"data/goodreads_export.csv\"\n",
    "gr_library = pd.read_csv(goodreads_filepath)\n",
    "\n",
    "# TO READ items from your GoodReads list\n",
    "search_query_str = \"`Exclusive Shelf` == 'to-read'\"\n",
    "(search_targets := gr_library.query(search_query_str))"
   ]
  },
  {
   "cell_type": "markdown",
   "metadata": {},
   "source": [
    "### Build search targets from previous search results"
   ]
  },
  {
   "cell_type": "code",
   "execution_count": null,
   "metadata": {},
   "outputs": [],
   "source": [
    "# TODO replace filepath with your own\n",
    "df = pd.read_csv(\"data/generated/overdrive_search_2024-06-16.csv\", index_col=0)\n",
    "\n",
    "(search_targets := df.query(od.Query.AUDIOS_AVAIL))"
   ]
  },
  {
   "cell_type": "markdown",
   "metadata": {},
   "source": [
    "### Run the Search!"
   ]
  },
  {
   "cell_type": "code",
   "execution_count": null,
   "metadata": {},
   "outputs": [],
   "source": [
    "results = od.search_libraries(search_targets.to_dict(orient=\"records\"), delay=1.5)\n",
    "search_results = pd.DataFrame(results).set_index(\"query_title\")\n",
    "df = search_results.sort_index()\n",
    "df.to_csv(f\"data/generated/overdrive_search_{u.now_iso()}.csv\", index=True)"
   ]
  },
  {
   "cell_type": "markdown",
   "metadata": {},
   "source": [
    "## Analyze Results"
   ]
  },
  {
   "cell_type": "markdown",
   "metadata": {},
   "source": [
    "### Load previous results from save file"
   ]
  },
  {
   "cell_type": "code",
   "execution_count": null,
   "metadata": {},
   "outputs": [],
   "source": [
    "# TODO replace filepath with your own\n",
    "(df := pd.read_csv(\"data/generated/overdrive_search_2024-06-16.csv\", index_col=0))"
   ]
  },
  {
   "cell_type": "markdown",
   "metadata": {},
   "source": [
    "#### Find Available Media"
   ]
  },
  {
   "cell_type": "code",
   "execution_count": null,
   "metadata": {},
   "outputs": [],
   "source": [
    "x = [\n",
    "    {\n",
    "        \"title\": title[:25],  # truncate the title ... bloat is real\n",
    "        \"ebook\": _df.query(\"`ebook_available` > 0\")[\"library\"].unique(),\n",
    "        \"audio\": _df.query(\"`audiobook_available` > 0\")[\"library\"].unique(),\n",
    "    }\n",
    "    for title, _df in df[od.SUMMARY_FIELDS].groupby(\"title\")\n",
    "]\n",
    "\n",
    "print(pd.DataFrame(x).set_index(\"title\").to_string())"
   ]
  }
 ],
 "metadata": {
  "kernelspec": {
   "display_name": ".venv",
   "language": "python",
   "name": "python3"
  },
  "language_info": {
   "codemirror_mode": {
    "name": "ipython",
    "version": 3
   },
   "file_extension": ".py",
   "mimetype": "text/x-python",
   "name": "python",
   "nbconvert_exporter": "python",
   "pygments_lexer": "ipython3",
   "version": "3.12.3"
  }
 },
 "nbformat": 4,
 "nbformat_minor": 2
}
