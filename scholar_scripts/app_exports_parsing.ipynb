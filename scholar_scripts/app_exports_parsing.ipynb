{
 "cells": [
  {
   "cell_type": "markdown",
   "metadata": {},
   "source": [
    "# Setup"
   ]
  },
  {
   "cell_type": "code",
   "execution_count": null,
   "metadata": {},
   "outputs": [],
   "source": [
    "import pandas as pd\n",
    "from pathlib import Path\n",
    "import scholar_scripts.utils as u\n",
    "import scholar_scripts.kindle_parse as kp\n",
    "\n",
    "%load_ext autoreload\n",
    "%autoreload 2\n",
    "\n",
    "u.configure_logging()"
   ]
  },
  {
   "cell_type": "markdown",
   "metadata": {},
   "source": [
    "# Goodreads"
   ]
  },
  {
   "cell_type": "code",
   "execution_count": null,
   "metadata": {},
   "outputs": [],
   "source": [
    "# Go to Good Reads -> My Books -> Import/Export (Under Tools on left ribbon)\n",
    "# Export the library, this will generate a link for your download\n",
    "\n",
    "gr_library = pd.read_csv(\"data/goodreads_export.csv\")\n",
    "print(f\"Total Number of Books: {len(gr_library)}\")\n",
    "gr_library.head()"
   ]
  },
  {
   "cell_type": "markdown",
   "metadata": {},
   "source": [
    "### Create (Obsidian friendly) markdown file for book reviews"
   ]
  },
  {
   "cell_type": "code",
   "execution_count": null,
   "metadata": {},
   "outputs": [],
   "source": [
    "write_when = \"`Exclusive Shelf` != 'to-read'\"\n",
    "\n",
    "_ = (\n",
    "    gr_library.query(write_when)\n",
    "    .sort_values(\"Date Read\", ascending=False)\n",
    "    .apply(u.as_markdown_file, axis=1)\n",
    ")"
   ]
  },
  {
   "cell_type": "markdown",
   "metadata": {},
   "source": [
    "# Kindle"
   ]
  },
  {
   "cell_type": "markdown",
   "metadata": {},
   "source": [
    "## Parse read.amazon/notebook format"
   ]
  },
  {
   "cell_type": "markdown",
   "metadata": {},
   "source": [
    "Copy the page contents from https://read.amazon.com/notebook into a text file and then run the code below to parse it out into a pretty format"
   ]
  },
  {
   "cell_type": "markdown",
   "metadata": {},
   "source": [
    "### Single File"
   ]
  },
  {
   "cell_type": "code",
   "execution_count": null,
   "metadata": {},
   "outputs": [],
   "source": [
    "filepath = Path(\"data/capitalism_socialism_democracy_highlights.txt\")\n",
    "\n",
    "(hi_lites := kp.parse_highlight_file(filepath))"
   ]
  },
  {
   "cell_type": "code",
   "execution_count": null,
   "metadata": {},
   "outputs": [],
   "source": [
    "# write to text file for easy copy and paste\n",
    "kp.write_to_file(Path(\"data/generated/capitalism_socialism_democracy_notes.txt\"), hi_lites)"
   ]
  },
  {
   "cell_type": "markdown",
   "metadata": {},
   "source": [
    "### All Files Matching"
   ]
  },
  {
   "cell_type": "code",
   "execution_count": null,
   "metadata": {},
   "outputs": [],
   "source": [
    "for f in Path(\"data\").glob(\"*highlights.txt\"):\n",
    "    _highlights = kp.parse_highlight_file(f)\n",
    "    _out = Path(f\"data/generated/{f.name.replace(\"highlights\", \"notes\")}\")\n",
    "    kp.write_to_file(_out, _highlights)"
   ]
  },
  {
   "cell_type": "markdown",
   "metadata": {},
   "source": [
    "## From MyClippings.txt"
   ]
  },
  {
   "cell_type": "markdown",
   "metadata": {},
   "source": [
    "Connect your kindle to a computer and copy the `documents/My Clippings.txt` file from the kindle to your computer."
   ]
  },
  {
   "cell_type": "code",
   "execution_count": null,
   "metadata": {},
   "outputs": [],
   "source": [
    "book_notes = kp.parse_myclippings_file(Path(\"data/My Clippings.txt\"))\n",
    "print(\"\\n\".join(book_notes.keys()))"
   ]
  },
  {
   "cell_type": "code",
   "execution_count": null,
   "metadata": {},
   "outputs": [],
   "source": [
    "for title, notes in book_notes.items():\n",
    "    _out = Path(f\"data/generated/{title}_notes.txt\")\n",
    "    kp.write_to_file(_out, notes)"
   ]
  }
 ],
 "metadata": {
  "kernelspec": {
   "display_name": ".venv",
   "language": "python",
   "name": "python3"
  },
  "language_info": {
   "codemirror_mode": {
    "name": "ipython",
    "version": 3
   },
   "file_extension": ".py",
   "mimetype": "text/x-python",
   "name": "python",
   "nbconvert_exporter": "python",
   "pygments_lexer": "ipython3",
   "version": "3.12.3"
  }
 },
 "nbformat": 4,
 "nbformat_minor": 2
}
